{
 "cells": [
  {
   "cell_type": "code",
   "execution_count": 1,
   "metadata": {
    "collapsed": true
   },
   "outputs": [],
   "source": [
    "import numpy as np"
   ]
  },
  {
   "cell_type": "code",
   "execution_count": 2,
   "metadata": {
    "collapsed": true
   },
   "outputs": [],
   "source": [
    "gamma = 0.95\n",
    "epsilon = 0.01"
   ]
  },
  {
   "cell_type": "code",
   "execution_count": 22,
   "metadata": {
    "collapsed": true
   },
   "outputs": [],
   "source": [
    "r = np.array([[-0.4,0],[2,0],[-1,-0.5]])\n",
    "P = np.array([\n",
    "            [[0.45,0,0.55],[0,0,1],[0.6,0,0.4]]\n",
    "            ,\n",
    "            [[0,0,1],[0.5,0.4,0.1],[0,0.9,0.1]]\n",
    "            ])\n",
    "actions = [0,1]\n",
    "states = [0,1,2]"
   ]
  },
  {
   "cell_type": "code",
   "execution_count": 4,
   "metadata": {},
   "outputs": [
    {
     "data": {
      "text/plain": [
       "2.7549999999999999"
      ]
     },
     "execution_count": 4,
     "metadata": {},
     "output_type": "execute_result"
    }
   ],
   "source": [
    "#FOR THE STATE 0 TEST\n",
    "v_0 = np.array([0, 0, 0])\n",
    "v = np.array([2, 2.3, 2.9])\n",
    "v_opt = -float(\"inf\")\n",
    "for a in actions:\n",
    "    temp = r[0,a] + gamma*(v.dot(P[a][0,:]))\n",
    "    if temp > v_opt:\n",
    "        v_opt = temp\n",
    "v_opt"
   ]
  },
  {
   "cell_type": "code",
   "execution_count": 5,
   "metadata": {},
   "outputs": [
    {
     "data": {
      "text/plain": [
       "2.7549999999999999"
      ]
     },
     "execution_count": 5,
     "metadata": {},
     "output_type": "execute_result"
    }
   ],
   "source": [
    "np.max(r[0,:]+gamma*P[:,0,:].dot(v))"
   ]
  },
  {
   "cell_type": "code",
   "execution_count": 6,
   "metadata": {
    "collapsed": true
   },
   "outputs": [],
   "source": [
    "v = np.array([0, 0, 0])\n",
    "v_temp = np.array([0, 0, 0])\n",
    "for s in states:\n",
    "    v_temp[s] = np.max(r[s,:]+gamma*P[:,s,:].dot(v))\n",
    "v_temp = v"
   ]
  },
  {
   "cell_type": "code",
   "execution_count": 12,
   "metadata": {
    "scrolled": true
   },
   "outputs": [
    {
     "name": "stdout",
     "output_type": "stream",
     "text": [
      "0 [0 0 0]\n",
      "0 0 [0 0 0]\n",
      "0 [0 0 0]\n",
      "0 1 [0 2 0]\n",
      "0 [0 0 0]\n",
      "0 2 [0 2 0]\n",
      "1 [0 2 0]\n",
      "1 0 [0 0 0]\n",
      "1 [0 2 0]\n",
      "1 1 [0 2 0]\n",
      "1 [0 2 0]\n",
      "1 2 [0 2 1]\n",
      "2 [0 2 1]\n",
      "2 0 [0 0 0]\n",
      "2 [0 2 1]\n",
      "2 1 [0 2 0]\n",
      "2 [0 2 1]\n",
      "2 2 [0 2 1]\n",
      "3 [0 2 1]\n",
      "3 0 [0 0 0]\n",
      "3 [0 2 1]\n",
      "3 1 [0 2 0]\n",
      "3 [0 2 1]\n",
      "3 2 [0 2 1]\n",
      "4 [0 2 1]\n",
      "4 0 [0 0 0]\n",
      "4 [0 2 1]\n",
      "4 1 [0 2 0]\n",
      "4 [0 2 1]\n",
      "4 2 [0 2 1]\n",
      "5 [0 2 1]\n",
      "5 0 [0 0 0]\n",
      "5 [0 2 1]\n",
      "5 1 [0 2 0]\n",
      "5 [0 2 1]\n",
      "5 2 [0 2 1]\n",
      "6 [0 2 1]\n",
      "6 0 [0 0 0]\n",
      "6 [0 2 1]\n",
      "6 1 [0 2 0]\n",
      "6 [0 2 1]\n",
      "6 2 [0 2 1]\n",
      "7 [0 2 1]\n",
      "7 0 [0 0 0]\n",
      "7 [0 2 1]\n",
      "7 1 [0 2 0]\n",
      "7 [0 2 1]\n",
      "7 2 [0 2 1]\n",
      "8 [0 2 1]\n",
      "8 0 [0 0 0]\n",
      "8 [0 2 1]\n",
      "8 1 [0 2 0]\n",
      "8 [0 2 1]\n",
      "8 2 [0 2 1]\n",
      "9 [0 2 1]\n",
      "9 0 [0 0 0]\n",
      "9 [0 2 1]\n",
      "9 1 [0 2 0]\n",
      "9 [0 2 1]\n",
      "9 2 [0 2 1]\n"
     ]
    }
   ],
   "source": [
    "v = np.array([0, 0, 0])\n",
    "for i in range(10):\n",
    "    v_temp = np.array([0, 0, 0])\n",
    "    for s in states:\n",
    "        print(i, v)\n",
    "        v_temp[s] = np.max(r[s,:]+gamma*P[:,s,:].dot(v))\n",
    "        print(i, s ,v_temp)\n",
    "    v = v_temp.copy()"
   ]
  },
  {
   "cell_type": "code",
   "execution_count": 8,
   "metadata": {},
   "outputs": [
    {
     "data": {
      "text/plain": [
       "array([0, 2, 1])"
      ]
     },
     "execution_count": 8,
     "metadata": {},
     "output_type": "execute_result"
    }
   ],
   "source": [
    "v"
   ]
  },
  {
   "cell_type": "code",
   "execution_count": null,
   "metadata": {
    "collapsed": true
   },
   "outputs": [],
   "source": [
    "v = np.array([0, 0, 0])\n",
    "v_temp = np.array([0, 0, 0])\n",
    "opt_policy = np.array([0, 0, 0])\n",
    "\n",
    "for i in range(10):\n",
    "    for s in states: \n",
    "        v_opt = -float(\"inf\")\n",
    "        for a in actions:\n",
    "            temp = r[s,a] + gamma*(v.dot(P[a][s,:])) \n",
    "            if temp > v_opt:\n",
    "                v_opt = temp\n",
    "                v_temp[s] = temp\n",
    "                opt_policy[s] = a\n",
    "        v = v_temp.copy()\n",
    "opt_policy"
   ]
  },
  {
   "cell_type": "code",
   "execution_count": null,
   "metadata": {
    "collapsed": true
   },
   "outputs": [],
   "source": [
    "gamma = 0.95\n",
    "u = v.copy()\n",
    "delta = 0\n",
    "\n",
    "while delta<epsilon*(1-gamma)/gamma:\n",
    "    for s in states:\n",
    "        v_temp[s] = np.max(r[s,:]+gamma*P[:,s,:].dot(v))\n",
    "    v = v_temp\n",
    "    if np.linalg.norm(v-u) > delta:\n",
    "        delta = np.linalg.norm(v-u)\n",
    "    print(v)"
   ]
  },
  {
   "cell_type": "code",
   "execution_count": null,
   "metadata": {
    "collapsed": true
   },
   "outputs": [],
   "source": [
    "gamma = 0.5\n",
    "u = v.copy()\n",
    "delta = 0\n",
    "\n",
    "while delta<epsilon*(1-gamma)/gamma:\n",
    "    v = np.max(r + gamma*P.dot(v),axis=0)\n",
    "    if np.linalg.norm(v-u) > delta:\n",
    "        delta = np.linalg.norm(v-u)\n",
    "    print(v)"
   ]
  },
  {
   "cell_type": "code",
   "execution_count": 18,
   "metadata": {
    "collapsed": true
   },
   "outputs": [],
   "source": [
    "temp = np.zeros((len(states)))"
   ]
  },
  {
   "cell_type": "code",
   "execution_count": 19,
   "metadata": {},
   "outputs": [
    {
     "data": {
      "text/plain": [
       "array([ 0.,  0.,  0.])"
      ]
     },
     "execution_count": 19,
     "metadata": {},
     "output_type": "execute_result"
    }
   ],
   "source": [
    "temp"
   ]
  },
  {
   "cell_type": "code",
   "execution_count": 20,
   "metadata": {
    "collapsed": true
   },
   "outputs": [],
   "source": [
    "P_Pi = np.zeros((3,3))"
   ]
  },
  {
   "cell_type": "code",
   "execution_count": 21,
   "metadata": {},
   "outputs": [
    {
     "data": {
      "text/plain": [
       "array([[ 0.,  0.,  0.],\n",
       "       [ 0.,  0.,  0.],\n",
       "       [ 0.,  0.,  0.]])"
      ]
     },
     "execution_count": 21,
     "metadata": {},
     "output_type": "execute_result"
    }
   ],
   "source": [
    "P_Pi"
   ]
  },
  {
   "cell_type": "code",
   "execution_count": 23,
   "metadata": {
    "collapsed": true
   },
   "outputs": [],
   "source": [
    "pi = [1,0,1]\n",
    "for i in range(3):\n",
    "    for j in range(3):\n",
    "        P_Pi[i,j] = P[pi[i],i,j]\n",
    "        "
   ]
  },
  {
   "cell_type": "code",
   "execution_count": 24,
   "metadata": {},
   "outputs": [
    {
     "data": {
      "text/plain": [
       "array([[ 0. ,  0. ,  1. ],\n",
       "       [ 0. ,  0. ,  1. ],\n",
       "       [ 0. ,  0.9,  0.1]])"
      ]
     },
     "execution_count": 24,
     "metadata": {},
     "output_type": "execute_result"
    }
   ],
   "source": [
    "P_Pi"
   ]
  },
  {
   "cell_type": "code",
   "execution_count": 25,
   "metadata": {},
   "outputs": [
    {
     "data": {
      "text/plain": [
       "array([[ 1.,  0.,  0.],\n",
       "       [ 0.,  1.,  0.],\n",
       "       [ 0.,  0.,  1.]])"
      ]
     },
     "execution_count": 25,
     "metadata": {},
     "output_type": "execute_result"
    }
   ],
   "source": [
    "np.identity(3)"
   ]
  },
  {
   "cell_type": "code",
   "execution_count": 26,
   "metadata": {},
   "outputs": [
    {
     "data": {
      "text/plain": [
       "array([[ 1.   ,  0.   , -0.95 ],\n",
       "       [ 0.   ,  1.   , -0.95 ],\n",
       "       [ 0.   , -0.855,  0.905]])"
      ]
     },
     "execution_count": 26,
     "metadata": {},
     "output_type": "execute_result"
    }
   ],
   "source": [
    "np.identity(3) - gamma*P_Pi"
   ]
  },
  {
   "cell_type": "code",
   "execution_count": 31,
   "metadata": {},
   "outputs": [
    {
     "data": {
      "text/plain": [
       "array([ 0. ,  2. , -0.5])"
      ]
     },
     "execution_count": 31,
     "metadata": {},
     "output_type": "execute_result"
    }
   ],
   "source": [
    "r_pi = np.zeros((3))\n",
    "for i in range(3):\n",
    "    r_pi[i] = r[i,pi[i]]\n",
    "r_pi"
   ]
  },
  {
   "cell_type": "code",
   "execution_count": 29,
   "metadata": {},
   "outputs": [
    {
     "data": {
      "text/plain": [
       "array([ 12.393531 ,  14.393531 ,  13.0458221])"
      ]
     },
     "execution_count": 29,
     "metadata": {},
     "output_type": "execute_result"
    }
   ],
   "source": [
    "np.linalg.inv(np.identity(3) - gamma*P_Pi).dot(r_pi)"
   ]
  },
  {
   "cell_type": "code",
   "execution_count": 1,
   "metadata": {},
   "outputs": [
    {
     "ename": "SyntaxError",
     "evalue": "invalid syntax (<ipython-input-1-4f8fa7f850e2>, line 1)",
     "output_type": "error",
     "traceback": [
      "\u001b[1;36m  File \u001b[1;32m\"<ipython-input-1-4f8fa7f850e2>\"\u001b[1;36m, line \u001b[1;32m1\u001b[0m\n\u001b[1;33m    A = [ 1.  0.  1.]\u001b[0m\n\u001b[1;37m               ^\u001b[0m\n\u001b[1;31mSyntaxError\u001b[0m\u001b[1;31m:\u001b[0m invalid syntax\n"
     ]
    }
   ],
   "source": [
    "A = [ 1.  0.  1.]"
   ]
  },
  {
   "cell_type": "code",
   "execution_count": null,
   "metadata": {
    "collapsed": true
   },
   "outputs": [],
   "source": [
    "# Q4 \n",
    "E = 7000\n",
    "Tmax = 100\n",
    "Q = [[[0 for a in range(len(env.state_actions[x]))] for x in range(len(env.state_actions))] for i in range(1+E)]\n",
    "N = [[[0 for a in range(len(env.state_actions[x]))] for x in range(len(env.state_actions))] for i in range(1+E)]\n",
    "gamma = 0.95\n",
    "env.render = False\n",
    "for i in range(E):\n",
    "    x0 = env.reset()\n",
    "    a0_int = np.random.randint(len(env.state_actions[x0]))\n",
    "    a0 = env.state_actions[x0][a0_int]\n",
    "    x = [x0]\n",
    "    a = [a0]\n",
    "    N[i][x0][a0_int] += 1\n",
    "    t = 0\n",
    "    while True:\n",
    "        xt, rt, term = env.step(x[t], a[t])\n",
    "        x.append(xt)\n",
    "        a.append(0 if (0 in env.state_actions[x[t+1]]) else 3)\n",
    "        Q[i][x0][a0_int] += (gamma**t)*rt\n",
    "        t+=1\n",
    "        if t > Tmax or term:\n",
    "            break\n",
    "    N[i+1] = copy.deepcopy(N[i])\n",
    "    Q[i+1] = copy.deepcopy(Q[i])\n",
    "\n",
    "V = [[0 for x in range(len(env.state_actions))] for i in range(E+1)]\n",
    "for i in range(len(Q)):\n",
    "    for j in range(len(Q[i])):\n",
    "        for k in range(len(Q[i][j])):\n",
    "            if N[i][j][k] != 0:\n",
    "                Q[i][j][k]/=N[i][j][k]\n",
    "        if 0 in env.state_actions[j]:\n",
    "            apol_int = 0\n",
    "        else:\n",
    "            for l in range(len(env.state_actions[j])):\n",
    "                if env.state_actions[j][l] == 3:\n",
    "                    apol_int = l\n",
    "                    break\n",
    "        V[i][j] = Q[i][j][apol_int]\n",
    "        "
   ]
  }
 ],
 "metadata": {
  "kernelspec": {
   "display_name": "Python 3",
   "language": "python",
   "name": "python3"
  },
  "language_info": {
   "codemirror_mode": {
    "name": "ipython",
    "version": 3
   },
   "file_extension": ".py",
   "mimetype": "text/x-python",
   "name": "python",
   "nbconvert_exporter": "python",
   "pygments_lexer": "ipython3",
   "version": "3.6.2"
  }
 },
 "nbformat": 4,
 "nbformat_minor": 2
}
