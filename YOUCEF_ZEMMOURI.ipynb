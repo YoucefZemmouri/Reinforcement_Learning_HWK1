{
 "cells": [
  {
   "cell_type": "markdown",
   "metadata": {},
   "source": [
    "# DYNAMIC PROGRAMMING"
   ]
  },
  {
   "cell_type": "code",
   "execution_count": 1,
   "metadata": {
    "collapsed": true
   },
   "outputs": [],
   "source": [
    "import numpy as np\n",
    "import Dynamic_Programming"
   ]
  },
  {
   "cell_type": "markdown",
   "metadata": {},
   "source": [
    "The different functions used to do this are available in **Dynamic_Programming.py**.\n",
    "- *OptimalBellmanValue* where we compute $V \\mapsto \\mathcal{T}V$\n",
    "- *OptimalBellmanPolicy* where we compute the optimal policy $\\pi(x) \\in argmax_{a \\in A}[r(x,a)+\\gamma \\sum_y p(y~|~x,a)V^{\\pi}(x)]]$\n",
    "- *PolicyEvaluation* where we compute the Value from any policy $\\pi$\n",
    "- *ValueIteratin* and *PolicyIteratoin*\n",
    "- *PlotConvergenceValue* and *PlotConvergencePolicy* where we plot the convergence of $\\|v^{k+1} - v^k\\|_{\\infty}$ using two different methods."
   ]
  },
  {
   "cell_type": "markdown",
   "metadata": {},
   "source": [
    "## Q1: Implement the discrete MDP model "
   ]
  },
  {
   "cell_type": "markdown",
   "metadata": {},
   "source": [
    "The reward matrix R such as: $R_{i,j} = r(s_j,a_i)$\n",
    "\n",
    "The probability matrix P such as: $P[k]_{i,j} = p(s_j~|~s_i,a_k)$"
   ]
  },
  {
   "cell_type": "code",
   "execution_count": 2,
   "metadata": {
    "collapsed": true
   },
   "outputs": [],
   "source": [
    "R = np.array([[-0.4,0],[2,0],[-1,-0.5]])\n",
    "P = np.array([\n",
    "            [[0.45,0,0.55],[0,0,1],[0.6,0,0.4]]\n",
    "            ,\n",
    "            [[0,0,1],[0.5,0.4,0.1],[0,0.9,0.1]]\n",
    "            ])\n",
    "Actions = [0,1]\n",
    "States = [0,1,2]\n",
    "\n",
    "Model = Dynamic_Programming.MarkovDecisionProcess(States,Actions,P,R,0.95)"
   ]
  },
  {
   "cell_type": "markdown",
   "metadata": {},
   "source": [
    "## Q2: Value Iteration"
   ]
  },
  {
   "cell_type": "markdown",
   "metadata": {},
   "source": [
    "We implement and run value iteration (VI) in order to identify a 0.01-optimal policy. The stopping criterion is $\\|v^{k+1} - v^k\\| <\\epsilon$ which implies $\\|v^{d^+_{k+1}} − v^∗\\|_{\\infty} < \\frac{2 \\epsilon \\gamma}{1 - \\gamma}$ where $v^{d^+_{k+1}}$ is the greedy policy w.r.t $v^{k+1}$. Hence, we have: \n",
    "$\\epsilon= 0.01\\frac{1-\\gamma}{2\\gamma}$"
   ]
  },
  {
   "cell_type": "code",
   "execution_count": 3,
   "metadata": {
    "collapsed": true
   },
   "outputs": [],
   "source": [
    "V_0 = np.array([0, 0, 0])\n",
    "V, Pi, i = Model.ValueIteratin(V_0)"
   ]
  },
  {
   "cell_type": "code",
   "execution_count": 4,
   "metadata": {},
   "outputs": [
    {
     "name": "stdout",
     "output_type": "stream",
     "text": [
      "The Value found after Value Iteration:  [ 12.38870732  14.38870732  13.04099842]\n"
     ]
    }
   ],
   "source": [
    "print(\"The Value found after Value Iteration: \", V)"
   ]
  },
  {
   "cell_type": "code",
   "execution_count": 5,
   "metadata": {},
   "outputs": [
    {
     "name": "stdout",
     "output_type": "stream",
     "text": [
      "The number of iterations needed to reach stopping criterion:  155\n"
     ]
    }
   ],
   "source": [
    "print(\"The number of iterations needed to reach stopping criterion: \",i)"
   ]
  },
  {
   "cell_type": "markdown",
   "metadata": {},
   "source": [
    "### Plot $||v_k - v^*||_{\\infty}$ as a function of iteration k"
   ]
  },
  {
   "cell_type": "code",
   "execution_count": 6,
   "metadata": {},
   "outputs": [
    {
     "data": {
      "image/png": "[encoded data removed]",
      "text/plain": [
       "<matplotlib.figure.Figure at 0x2af0272f9e8>"
      ]
     },
     "metadata": {},
     "output_type": "display_data"
    }
   ],
   "source": [
    "Pi_opt = np.array([1,0,1])\n",
    "Model.PlotConvergenceValue(Pi_opt,V_0)"
   ]
  },
  {
   "cell_type": "markdown",
   "metadata": {},
   "source": [
    "### The optimal policy"
   ]
  },
  {
   "cell_type": "code",
   "execution_count": 7,
   "metadata": {},
   "outputs": [
    {
     "data": {
      "text/plain": [
       "array([1, 0, 1])"
      ]
     },
     "execution_count": 7,
     "metadata": {},
     "output_type": "execute_result"
    }
   ],
   "source": [
    "Pi = Model.OptimalBellmanPolicy(V)\n",
    "Pi"
   ]
  },
  {
   "cell_type": "markdown",
   "metadata": {},
   "source": [
    "## Q2: Policy Iteration\n",
    "We set the stopping criteria: $ V^{\\pi_{k+1}} = V^{\\pi_{k}} $  "
   ]
  },
  {
   "cell_type": "code",
   "execution_count": 8,
   "metadata": {
    "collapsed": true
   },
   "outputs": [],
   "source": [
    "Pi_0 = np.random.randint(Model.N_actions, size=Model.N_states)"
   ]
  },
  {
   "cell_type": "code",
   "execution_count": 9,
   "metadata": {},
   "outputs": [
    {
     "data": {
      "text/plain": [
       "array([1, 0, 1])"
      ]
     },
     "execution_count": 9,
     "metadata": {},
     "output_type": "execute_result"
    }
   ],
   "source": [
    "Model.PolicyIteration(Pi_0)"
   ]
  },
  {
   "cell_type": "markdown",
   "metadata": {},
   "source": [
    "### Plot $||v_k - v^*||_{\\infty}$ as a function of iteration k"
   ]
  },
  {
   "cell_type": "code",
   "execution_count": 10,
   "metadata": {},
   "outputs": [
    {
     "name": "stdout",
     "output_type": "stream",
     "text": [
      "ceci est V_1  [-5.66025289 -5.16947374 -5.43635364]\n",
      "ceci est Pi_1  [1 0 1]\n",
      "9\n"
     ]
    },
    {
     "data": {
      "image/png": "[encoded data removed]",
      "text/plain": [
       "<matplotlib.figure.Figure at 0x2af02e09ef0>"
      ]
     },
     "metadata": {},
     "output_type": "display_data"
    }
   ],
   "source": [
    "Pi_0 = np.random.randint(Model.N_actions, size=Model.N_states)\n",
    "Model.PlotConvergencePolicy(Pi_opt,Pi_0)"
   ]
  },
  {
   "cell_type": "markdown",
   "metadata": {},
   "source": [
    "We can see that Policy Iteration converges really fast compared to Value Iteration: 1 iteration for the first methode and more than a hundred for the second. Also, with PI, we will have absolute convergence since our stopping criterion is $V^{\\pi_{k+1}} = V^{\\pi_{k}}$ while convergence for VI is asymptotic.  \n",
    "The complexities per iteration for the different methods are (with N=card(States) and M=card(Actions)):\n",
    "\n",
    "-$O(N^{2.807})$ for Policy iteration (it is the cost of matrix inversion)\n",
    "\n",
    "-$O(N^2M)$ for Value iteration\n",
    "\n",
    "We can see that Policy Iteration is less consuming per iteration and since the total complexity for VI is $O(KN^2M)$ (with K the number of iterations). This explain our results. However, the matrix inversion and computations can be very consuming in big dimensions. \n",
    "\n",
    "In the note lectures (*notes-lectures-02*)\n",
    "\"\n",
    "For Value Iteration:\n",
    "\n",
    "**Pros:** each iteration is very computationally eﬃcient.\n",
    "\n",
    "**Cons:** convergence is only asymptotic.\n",
    "\n",
    "For Policy Iteration:\n",
    "\n",
    "**Pros:** converge in a ﬁnite number of iterations (often small in practice).\n",
    "\n",
    "**Cons:** each iteration requires a full policy evaluation and it might be expensive.\""
   ]
  },
  {
   "cell_type": "markdown",
   "metadata": {},
   "source": [
    "# REINFORCEMENT LEARNING"
   ]
  },
  {
   "cell_type": "markdown",
   "metadata": {
    "collapsed": true
   },
   "source": [
    "## Q4: Policy Evaluation"
   ]
  },
  {
   "cell_type": "code",
   "execution_count": 11,
   "metadata": {
    "collapsed": true
   },
   "outputs": [],
   "source": [
    "import numpy as np\n",
    "import random \n",
    "from gridworld import GridWorld1\n",
    "import matplotlib.pyplot as plt"
   ]
  },
  {
   "cell_type": "code",
   "execution_count": 12,
   "metadata": {
    "collapsed": true
   },
   "outputs": [],
   "source": [
    "env = GridWorld1\n",
    "gamma  = 0.95\n",
    "States = range(env.n_states)\n",
    "Policy = [0 if 0 in env.state_actions[s] else 3 for s in States]\n",
    "n_MC = 10000\n",
    "T_max = 100\n",
    "mu0 =(1/11)*np.ones(11)\n",
    "V_opt = [0.87691855, 0.92820033, 0.98817903, 0.00000000, 0.67106071, -0.99447514, \n",
    "         0.00000000, -0.82847001, -0.87691855,-0.93358351, -0.99447514]"
   ]
  },
  {
   "cell_type": "markdown",
   "metadata": {},
   "source": [
    "The fonction **Trajectory** returns  the reward for a given trajectory (a given state, given, T_max and a policy). Also, since the reward is null except in the absorbing states, it would have been possible to only return the last reward. "
   ]
  },
  {
   "cell_type": "code",
   "execution_count": 13,
   "metadata": {
    "collapsed": true
   },
   "outputs": [],
   "source": [
    "def Trajectory(state,action,T_max,policy):\n",
    "    t = 1\n",
    "    next_state, reward, term = env.step(state,action)\n",
    "    gamma_r = (gamma**(t-1))*reward\n",
    "    while((t<T_max) and not term):\n",
    "        t+=1\n",
    "        next_state, reward, term = env.step(next_state, policy[next_state])\n",
    "        gamma_r += (gamma ** (t - 1)) * reward\n",
    "    return gamma_r"
   ]
  },
  {
   "cell_type": "markdown",
   "metadata": {},
   "source": [
    "### Computing $Q_{n}(x,a)$"
   ]
  },
  {
   "cell_type": "code",
   "execution_count": 14,
   "metadata": {
    "collapsed": true
   },
   "outputs": [],
   "source": [
    "N = np.zeros((env.n_states,len(env.action_names)))\n",
    "Q = np.zeros((env.n_states,len(env.action_names)))\n",
    "Error = []"
   ]
  },
  {
   "cell_type": "code",
   "execution_count": 15,
   "metadata": {
    "collapsed": true
   },
   "outputs": [],
   "source": [
    "for i in range(n_MC):\n",
    "    Q_temp = np.zeros((env.n_states,len(env.action_names)))\n",
    "    for s in States:\n",
    "        for a in env.state_actions[s]:\n",
    "            N[s,a]+=1\n",
    "            Q[s,a]+=Trajectory(s,a,T_max,Policy)\n",
    "    #Errors\n",
    "    for i in range(env.n_states):\n",
    "        for j in range(len(env.action_names)):\n",
    "            if N[i, j] != 0:\n",
    "                Q_temp[i, j] = Q[i, j] / N[i, j]\n",
    "    V = [Q_temp[s][Policy[s]] for s in States]\n",
    "    Error.append(sum(np.multiply(V,mu0))-sum(np.multiply(V_opt,mu0)))"
   ]
  },
  {
   "cell_type": "markdown",
   "metadata": {},
   "source": [
    "### Plot $J^n − J^\\pi$ as a function on n_MC"
   ]
  },
  {
   "cell_type": "code",
   "execution_count": 16,
   "metadata": {},
   "outputs": [
    {
     "data": {
      "image/png": "[encoded data removed]",
      "text/plain": [
       "<matplotlib.figure.Figure at 0x2af02f7d2b0>"
      ]
     },
     "metadata": {},
     "output_type": "display_data"
    }
   ],
   "source": [
    "plt.plot(Error)\n",
    "plt.xlabel(\"n\")\n",
    "plt.ylabel(\"$J^n - J^pi$\")\n",
    "plt.show()"
   ]
  },
  {
   "cell_type": "markdown",
   "metadata": {},
   "source": [
    "We find a V similar to the value function computed with DP:"
   ]
  },
  {
   "cell_type": "code",
   "execution_count": 17,
   "metadata": {},
   "outputs": [
    {
     "name": "stdout",
     "output_type": "stream",
     "text": [
      "[0.87724526652944823, 0.92826045988713302, 0.98860409449840458, 0.0, 0.67462270976618233, -0.99442153875000294, 0.0, -0.82801091232857016, -0.87670084234328693, -0.9339723292365919, -0.99425515000000164]\n"
     ]
    }
   ],
   "source": [
    "print(V)"
   ]
  },
  {
   "cell_type": "markdown",
   "metadata": {},
   "source": [
    "## Q5: Policy Optimization"
   ]
  },
  {
   "cell_type": "markdown",
   "metadata": {},
   "source": [
    "We choose an $\\alpha_{N(x_t,a_t)}$ satisfying  the usual stochastic approximation requirements (Robbins-Monro conditions): $\\alpha_{N(x_t,a_t)} = \\frac{1}{N(x_t,a_t)}$. We test different values of epsilon and 0.1 seems to be a satisfying one. "
   ]
  },
  {
   "cell_type": "code",
   "execution_count": 18,
   "metadata": {
    "collapsed": true
   },
   "outputs": [],
   "source": [
    "V_opt = [0.87691855, 0.92820033, 0.98817903, 0.00000000, 0.82369294, 0.92820033, \n",
    "         0.00000000, 0.77818504, 0.82369294,0.87691855, 0.82847001]"
   ]
  },
  {
   "cell_type": "code",
   "execution_count": 19,
   "metadata": {
    "collapsed": true
   },
   "outputs": [],
   "source": [
    "epsilon = 0.1\n",
    "def EpsilonGreedyExplorationPolicy(Q,s):\n",
    "    if random.random() < epsilon:\n",
    "        return random.choice(env.state_actions[s])\n",
    "    else:\n",
    "        i = np.argmax(Q[s,env.state_actions[s]])\n",
    "        return env.state_actions[s][i]"
   ]
  },
  {
   "cell_type": "code",
   "execution_count": 20,
   "metadata": {
    "collapsed": true
   },
   "outputs": [],
   "source": [
    "N = np.zeros((env.n_states,len(env.action_names)))\n",
    "Q = np.zeros((env.n_states,len(env.action_names)))\n",
    "\n",
    "Reward = []\n",
    "Error = []\n",
    "\n",
    "for i in range(n_MC):\n",
    "    t= 0\n",
    "    s = env.reset()\n",
    "    term = False\n",
    "    while((t<T_max) and not term):\n",
    "        t += 1\n",
    "        \n",
    "        a = EpsilonGreedyExplorationPolicy(Q,s)\n",
    "            \n",
    "        next_s, rwrd, term = env.step(s,a)\n",
    "        \n",
    "        N[s,a]+=1\n",
    "        alpha = 1/(N[s,a])\n",
    "        Q[s,a] = (1-alpha)*Q[s,a]+alpha*(rwrd+gamma*np.max(Q[next_s,env.state_actions[next_s]]))\n",
    "        s = next_s\n",
    "        \n",
    "    Reward.append(rwrd)    \n",
    "    Error.append(sum(abs(V_opt-np.max(Q,axis=1))))"
   ]
  },
  {
   "cell_type": "markdown",
   "metadata": {},
   "source": [
    "### Plot $||v^{\\pi_n} - v^*||_{\\infty}$ as a function of n"
   ]
  },
  {
   "cell_type": "code",
   "execution_count": 21,
   "metadata": {},
   "outputs": [
    {
     "data": {
      "image/png": "[encoded data removed]",
      "text/plain": [
       "<matplotlib.figure.Figure at 0x2af02e67748>"
      ]
     },
     "metadata": {},
     "output_type": "display_data"
    }
   ],
   "source": [
    "plt.plot(Error)\n",
    "plt.xlabel(\"iterations\")\n",
    "plt.ylabel(\"Error\")\n",
    "plt.show()"
   ]
  },
  {
   "cell_type": "markdown",
   "metadata": {},
   "source": [
    "### Plot Reward cumulated over an episode"
   ]
  },
  {
   "cell_type": "code",
   "execution_count": 22,
   "metadata": {
    "collapsed": true
   },
   "outputs": [],
   "source": [
    "Reward = np.cumsum(Reward)"
   ]
  },
  {
   "cell_type": "code",
   "execution_count": 23,
   "metadata": {},
   "outputs": [
    {
     "data": {
      "image/png": "[encoded data removed]",
      "text/plain": [
       "<matplotlib.figure.Figure at 0x2af02917710>"
      ]
     },
     "metadata": {},
     "output_type": "display_data"
    }
   ],
   "source": [
    "plt.plot(Reward)\n",
    "plt.xlabel(\"iterations\")\n",
    "plt.ylabel(\"Cumulative Reward\")\n",
    "plt.show()"
   ]
  },
  {
   "cell_type": "markdown",
   "metadata": {},
   "source": [
    "As excpected, the cumulative reward is an increasing function of the number of iterations."
   ]
  },
  {
   "cell_type": "markdown",
   "metadata": {},
   "source": [
    "### Optimal Policy"
   ]
  },
  {
   "cell_type": "code",
   "execution_count": 25,
   "metadata": {},
   "outputs": [
    {
     "data": {
      "text/plain": [
       "[0, 0, 0, 0, 3, 3, 0, 3, 0, 3, 2]"
      ]
     },
     "execution_count": 25,
     "metadata": {},
     "output_type": "execute_result"
    }
   ],
   "source": [
    "pi = [env.state_actions[s][np.argmax(Q[s][env.state_actions[s]])] for s in States]\n",
    "pi"
   ]
  },
  {
   "cell_type": "markdown",
   "metadata": {},
   "source": [
    "## Q5: Effect of initial Distribution:"
   ]
  },
  {
   "cell_type": "markdown",
   "metadata": {},
   "source": [
    "There is no reason to have the same policy with different distributions. We can have a different policy (with the same Value) and it seems quite natural because one can see that two different \"roads\" can lead to the same result with same number of steps.\n",
    "\n",
    "To confirm this, we run the policy optimization for different distributions until we have another policy."
   ]
  }
 ],
 "metadata": {
  "kernelspec": {
   "display_name": "Python 3",
   "language": "python",
   "name": "python3"
  },
  "language_info": {
   "codemirror_mode": {
    "name": "ipython",
    "version": 3
   },
   "file_extension": ".py",
   "mimetype": "text/x-python",
   "name": "python",
   "nbconvert_exporter": "python",
   "pygments_lexer": "ipython3",
   "version": "3.6.2"
  }
 },
 "nbformat": 4,
 "nbformat_minor": 2
}
